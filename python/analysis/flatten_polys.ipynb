{
 "cells": [
  {
   "cell_type": "code",
   "execution_count": 39,
   "metadata": {},
   "outputs": [
    {
     "data": {
      "image/svg+xml": "<svg xmlns=\"http://www.w3.org/2000/svg\" xmlns:xlink=\"http://www.w3.org/1999/xlink\" width=\"100.0\" height=\"100.0\" viewBox=\"-0.12 -0.12 3.24 3.24\" preserveAspectRatio=\"xMinYMin meet\"><g transform=\"matrix(1,0,0,-1,0,3.0)\"><path fill-rule=\"evenodd\" fill=\"#66cc99\" stroke=\"#555555\" stroke-width=\"0.06480000000000001\" opacity=\"0.6\" d=\"M 0.0,0.0 L 3.0,0.0 L 3.0,3.0 L 0.0,3.0 L 0.0,0.0 z\" /></g></svg>",
      "text/plain": [
       "<shapely.geometry.polygon.Polygon at 0x1714cec20>"
      ]
     },
     "execution_count": 39,
     "metadata": {},
     "output_type": "execute_result"
    }
   ],
   "source": [
    "import numpy as np\n",
    "import matplotlib.pyplot as plt\n",
    "# from matplotlib import patches\n",
    "import matplotlib as mpl\n",
    "# from descartes import PolygonPatch\n",
    "import shapely\n",
    "import geopandas as gpd\n",
    "\n",
    "import pandas as pd\n",
    "\n",
    "# exteriors CCW\n",
    "# interior (rings) CW\n",
    "\n",
    "dim = 3\n",
    "offset = 1\n",
    "\n",
    "sq_origin = np.array([0,0])\n",
    "sq = shapely.geometry.Polygon(np.array([\n",
    "  sq_origin,\n",
    "  sq_origin + np.array([dim,   0]),\n",
    "  sq_origin + np.array([dim, dim]),\n",
    "  sq_origin + np.array([  0, dim]),\n",
    "  sq_origin\n",
    "]))\n",
    "sq"
   ]
  },
  {
   "cell_type": "code",
   "execution_count": 24,
   "metadata": {},
   "outputs": [
    {
     "data": {
      "image/png": "[encoded data removed]",
      "text/plain": [
       "<Figure size 432x288 with 1 Axes>"
      ]
     },
     "metadata": {
      "needs_background": "light"
     },
     "output_type": "display_data"
    }
   ],
   "source": [
    "# Three diagonally offset overlapping squares\n",
    "diag_sq_origin = [-6, 1]\n",
    "diag_sqs = [\n",
    "  shapely.affinity.translate(\n",
    "    sq,\n",
    "    xoff = offset*i + diag_sq_origin[0],\n",
    "    yoff = offset*i + diag_sq_origin[1],\n",
    "    zoff = 0.0)\n",
    "  for i in range(3)\n",
    "]\n",
    "\n",
    "# Square with hole\n",
    "sq_w_hole_origin = [1,1]\n",
    "sq_w_hole = shapely.affinity.translate(\n",
    "  shapely.geometry.Polygon(\n",
    "    shell = sq.exterior,\n",
    "    holes = [\n",
    "      shapely.affinity.scale(\n",
    "        sq, xfact=0.5, yfact=0.5, zfact=1.0, origin='center'\n",
    "      ).exterior\n",
    "    ]\n",
    "  ),\n",
    "  xoff = sq_w_hole_origin[0],\n",
    "  yoff = sq_w_hole_origin[1],\n",
    "  zoff = 0.0\n",
    "# use buffer to correct hole orientation (CCW/CW)\n",
    ").buffer(0.0)\n",
    "\n",
    "# Square overlapping square with holes\n",
    "# Offset on x-axis\n",
    "sq_w_hole_friend = shapely.affinity.translate(\n",
    "  sq,\n",
    "  xoff = sq_w_hole_origin[0] + dim/2,\n",
    "  yoff = sq_w_hole_origin[1],\n",
    "  zoff = 0.0\n",
    ")\n",
    "\n",
    "# Square containing smaller square\n",
    "sq_containing_origin = [1, -1 - dim]\n",
    "sq_contained_origin  = [1.75, -1.75 - dim/2]\n",
    "sq_containing = shapely.affinity.translate(\n",
    "  sq,\n",
    "  xoff = sq_containing_origin[0],\n",
    "  yoff = sq_containing_origin[1],\n",
    "  zoff = 0.0)\n",
    "sq_contained = shapely.affinity.translate(\n",
    "  shapely.geometry.Polygon(\n",
    "    shapely.affinity.scale(\n",
    "      sq, xfact=0.5, yfact=0.5, zfact=1.0, origin=(0,0,0)\n",
    "    ).exterior\n",
    "  ),\n",
    "  xoff = sq_contained_origin[0],\n",
    "  yoff = sq_contained_origin[1],\n",
    "  zoff = 0.0)\n",
    "\n",
    "# Two squares touching at boundary\n",
    "touching_sq_origin = [-1 - dim, -1 - dim]\n",
    "touching_sqs = [\n",
    "  shapely.affinity.translate(\n",
    "    sq,\n",
    "    xoff = touching_sq_origin[0] - dim*i,\n",
    "    yoff = touching_sq_origin[1],\n",
    "    zoff = 0.0)\n",
    "  for i in range(2)\n",
    "]\n",
    "\n",
    "\n",
    "shapes = [sq_w_hole, sq_w_hole_friend, sq_containing, sq_contained]\n",
    "shapes.extend(diag_sqs)\n",
    "shapes.extend(touching_sqs)\n",
    "\n",
    "fig, ax = plt.subplots()\n",
    "\n",
    "gpd.GeoSeries(shapes).plot(\n",
    "  ax=ax,\n",
    "  facecolor=(0, 0, 1, 0.3),\n",
    "  edgecolor=(0, 0, 1, 0.8),\n",
    "  linewidth = 3\n",
    ")\n",
    "\n",
    "ax.axis('equal')\n",
    "fig.tight_layout()\n",
    "\n",
    "plt.show()"
   ]
  },
  {
   "cell_type": "code",
   "execution_count": 27,
   "metadata": {},
   "outputs": [
    {
     "data": {
      "image/png": "[encoded data removed]",
      "text/plain": [
       "<Figure size 432x288 with 1 Axes>"
      ]
     },
     "metadata": {
      "needs_background": "light"
     },
     "output_type": "display_data"
    }
   ],
   "source": [
    "shapes = [\n",
    "  ('sq_w_hole', sq_w_hole),\n",
    "  ('sq_w_hole_friend', sq_w_hole_friend),\n",
    "  ('sq_containing', sq_containing),\n",
    "  ('sq_contained', sq_contained)\n",
    "]\n",
    "shapes.extend([(f'diag_sq_{i}', diag_sqs[i]) for i in range(len(diag_sqs))])\n",
    "shapes.extend([(f'touching_sq_{i}', touching_sqs[i]) for i in range(len(touching_sqs))])\n",
    "\n",
    "d = {\n",
    "  'name': [shape[0] for shape in shapes],\n",
    "  'geometry': [shape[1] for shape in shapes]\n",
    "}\n",
    "\n",
    "gdf = gpd.GeoDataFrame(d)\n",
    "\n",
    "fig, ax = plt.subplots()\n",
    "\n",
    "gdf.plot(\n",
    "  ax=ax,\n",
    "  facecolor=(0, 0, 1, 0.3),\n",
    "  edgecolor=(0, 0, 1, 0.8),\n",
    "  linewidth = 3\n",
    ")\n",
    "\n",
    "ax.axis('equal')\n",
    "fig.tight_layout()\n",
    "\n",
    "plt.show()"
   ]
  },
  {
   "cell_type": "code",
   "execution_count": 64,
   "metadata": {},
   "outputs": [
    {
     "data": {
      "image/png": "[encoded data removed]",
      "text/plain": [
       "<Figure size 432x288 with 1 Axes>"
      ]
     },
     "metadata": {
      "needs_background": "light"
     },
     "output_type": "display_data"
    }
   ],
   "source": [
    "boundaries_gser = gdf['geometry'].boundary.explode(index_parts=False).rename('boundary')\n",
    "boundaries_gser.plot()\n",
    "plt.show()"
   ]
  },
  {
   "cell_type": "code",
   "execution_count": 67,
   "metadata": {},
   "outputs": [
    {
     "data": {
      "image/png": "[encoded data removed]",
      "text/plain": [
       "<Figure size 432x288 with 1 Axes>"
      ]
     },
     "metadata": {
      "needs_background": "light"
     },
     "output_type": "display_data"
    }
   ],
   "source": [
    "def decompose_ls(ls):\n",
    "  return list(map(shapely.geometry.LineString, zip(ls.coords[:-1], ls.coords[1:])))\n",
    "\n",
    "segments_gser = gpd.GeoSeries(data = boundaries_gser.apply(decompose_ls).explode())\n",
    "segments_gser.plot()\n",
    "plt.show()"
   ]
  },
  {
   "cell_type": "code",
   "execution_count": 68,
   "metadata": {},
   "outputs": [
    {
     "name": "stdout",
     "output_type": "stream",
     "text": [
      "40\n",
      "40\n",
      "39\n"
     ]
    }
   ],
   "source": [
    "print(len(segments_gser))\n",
    "\n",
    "segments_gser = segments_gser.drop_duplicates()\n",
    "\n",
    "print(len(segments_gser))\n",
    "\n",
    "segments_gser = segments_gser.apply(lambda g: g.normalize()).drop_duplicates()\n",
    "\n",
    "print(len(segments_gser))"
   ]
  },
  {
   "cell_type": "code",
   "execution_count": 77,
   "metadata": {},
   "outputs": [
    {
     "data": {
      "image/png": "[encoded data removed]",
      "text/plain": [
       "<Figure size 432x288 with 1 Axes>"
      ]
     },
     "metadata": {
      "needs_background": "light"
     },
     "output_type": "display_data"
    }
   ],
   "source": [
    "polygonize_segs_gser = gpd.GeoSeries(shapely.ops.polygonize(segments_gser.unary_union))\n",
    "\n",
    "polygonize_segs_gser.plot(\n",
    "  facecolor=(0.5, 0.5, 1, 1),\n",
    "  edgecolor=(0, 0, 1, 1),\n",
    "  linewidth = 3\n",
    ")\n",
    "plt.show()"
   ]
  },
  {
   "cell_type": "code",
   "execution_count": 78,
   "metadata": {},
   "outputs": [
    {
     "data": {
      "text/plain": [
       "16"
      ]
     },
     "execution_count": 78,
     "metadata": {},
     "output_type": "execute_result"
    }
   ],
   "source": [
    "len(polygonize_segs_gser)"
   ]
  },
  {
   "cell_type": "code",
   "execution_count": 80,
   "metadata": {},
   "outputs": [
    {
     "data": {
      "text/plain": [
       "16"
      ]
     },
     "execution_count": 80,
     "metadata": {},
     "output_type": "execute_result"
    }
   ],
   "source": [
    "len(gpd.GeoSeries(shapely.ops.polygonize(boundaries_gser.unary_union)))"
   ]
  },
  {
   "cell_type": "code",
   "execution_count": null,
   "metadata": {},
   "outputs": [],
   "source": []
  }
 ],
 "metadata": {
  "interpreter": {
   "hash": "e437f454bb6bb2b1dc2bf30931aacada21eb5e5eef3f27e9ab3441840d2eb07a"
  },
  "kernelspec": {
   "display_name": "Python 3.8.12 64-bit ('3.8.12')",
   "language": "python",
   "name": "python3"
  },
  "language_info": {
   "codemirror_mode": {
    "name": "ipython",
    "version": 3
   },
   "file_extension": ".py",
   "mimetype": "text/x-python",
   "name": "python",
   "nbconvert_exporter": "python",
   "pygments_lexer": "ipython3",
   "version": "3.10.2"
  },
  "orig_nbformat": 4
 },
 "nbformat": 4,
 "nbformat_minor": 2
}
