{
 "cells": [
  {
   "cell_type": "code",
   "execution_count": 133,
   "metadata": {},
   "outputs": [],
   "source": [
    "import pandas as pd\n",
    "import numpy as np\n",
    "import json\n",
    "\n",
    "from secrets.paths import alle_co_path"
   ]
  },
  {
   "cell_type": "code",
   "execution_count": 100,
   "metadata": {},
   "outputs": [
    {
     "name": "stderr",
     "output_type": "stream",
     "text": [
      "/var/folders/6q/n3pxz9m53xq52fgdhf0cbl8h0000gn/T/ipykernel_80350/2200263208.py:1: DtypeWarning: Columns (19,20,29,30,31,37,38,46,57,83) have mixed types. Specify dtype option on import or set low_memory=False.\n",
      "  assess_df = pd.read_csv(f'{alle_co_path}/assessments.csv')\n"
     ]
    }
   ],
   "source": [
    "assess_df = pd.read_csv(f'{alle_co_path}/assessments.csv')"
   ]
  },
  {
   "cell_type": "code",
   "execution_count": 101,
   "metadata": {},
   "outputs": [
    {
     "name": "stdout",
     "output_type": "stream",
     "text": [
      "0\n"
     ]
    }
   ],
   "source": [
    "# check PARID is unique\n",
    "print(len(assess_df['PARID']) - len(assess_df['PARID'].unique()))"
   ]
  },
  {
   "cell_type": "code",
   "execution_count": 102,
   "metadata": {},
   "outputs": [
    {
     "name": "stdout",
     "output_type": "stream",
     "text": [
      "STORIES 31544\n",
      "[dtype('O') dtype('int64') Int64Dtype() dtype('float64')]\n"
     ]
    }
   ],
   "source": [
    "# convert integer columns with NaN (float) to pandas nullable integers\n",
    "maybe_float_cols = assess_df.columns[assess_df.dtypes == 'float64']\n",
    "true_float_cols = []\n",
    "for col in maybe_float_cols:\n",
    "  temp_ser = assess_df[col].dropna()\n",
    "  n_floats = len(temp_ser[temp_ser != temp_ser.round(0)])\n",
    "  if n_floats > 0:\n",
    "    print(col, n_floats)\n",
    "  else:\n",
    "    true_float_cols.append(col)\n",
    "\n",
    "assess_df[true_float_cols] = assess_df[true_float_cols].astype(pd.Int64Dtype())\n",
    "print(assess_df.dtypes.unique())\n",
    "# (assess_df[float_cols] != assess_df[float_cols].round()).sum()"
   ]
  },
  {
   "cell_type": "code",
   "execution_count": 104,
   "metadata": {},
   "outputs": [],
   "source": [
    "# clean up strings\n",
    "obj_cols = assess_df.columns[assess_df.dtypes == 'O']\n",
    "for col in obj_cols:\n",
    "  # strip leading and trailing whitespace\n",
    "  assess_df[col] = assess_df[col].str.strip()\n",
    "  # replace multiple whitespace with single space\n",
    "  # pandas regex doesn't like pd.NA\n",
    "  assess_df[col].fillna('', inplace=True)\n",
    "  assess_df[col] = assess_df[col].str.replace(r'\\s\\s+', ' ', regex=True)\n",
    "  # replace empty strings with NA\n",
    "  assess_df.loc[assess_df[col] == '', col] = pd.NA\n",
    "  # paranoid (unnessecary?) replace only whitepace string with NA\n",
    "  assess_df.loc[assess_df[col].str.match(r'^\\s+$', na=True), col] = pd.NA"
   ]
  },
  {
   "cell_type": "code",
   "execution_count": 119,
   "metadata": {},
   "outputs": [],
   "source": [
    "# probably unnecessary\n",
    "assess_df.replace(np.nan, pd.NA, inplace=True)"
   ]
  },
  {
   "cell_type": "code",
   "execution_count": 115,
   "metadata": {},
   "outputs": [],
   "source": [
    "assess_dict = {\n",
    "  row['PARID']: row.drop('PARID').dropna().to_dict()\n",
    "  for idx, row in assess_df.iloc[:10000].iterrows()\n",
    "}"
   ]
  },
  {
   "cell_type": "code",
   "execution_count": 128,
   "metadata": {},
   "outputs": [],
   "source": [
    "# inspired by https://stackoverflow.com/questions/60280466/merging-two-dataframes-with-pd-na-in-merge-column-yields-typeerror-boolean-val\n",
    "# takes about 80s on my laptop\n",
    "assess_dict = {\n",
    "  m['PARID']: {\n",
    "    k:v for k,v in m.items()\n",
    "    if not pd.isna(v) and k != 'PARID'\n",
    "  }\n",
    "  for m in assess_df.to_dict('records')\n",
    "}"
   ]
  },
  {
   "cell_type": "code",
   "execution_count": 132,
   "metadata": {},
   "outputs": [
    {
     "name": "stdout",
     "output_type": "stream",
     "text": [
      "True\n"
     ]
    }
   ],
   "source": [
    "print(len(assess_dict) == len(assess_df))"
   ]
  },
  {
   "cell_type": "code",
   "execution_count": 134,
   "metadata": {},
   "outputs": [],
   "source": [
    "with open('assessments.json', 'w') as f:\n",
    "    json.dump(assess_dict, f)"
   ]
  },
  {
   "cell_type": "code",
   "execution_count": 135,
   "metadata": {},
   "outputs": [],
   "source": [
    "assess_df.to_feather('assessments_clean.feather')"
   ]
  },
  {
   "cell_type": "code",
   "execution_count": null,
   "metadata": {},
   "outputs": [],
   "source": []
  }
 ],
 "metadata": {
  "interpreter": {
   "hash": "f16a41518b62fecb6c83774704cbaa29755f01bc2cc04176a155a6394ef4f7a3"
  },
  "kernelspec": {
   "display_name": "Python 3.10.2 ('geopandas_3')",
   "language": "python",
   "name": "python3"
  },
  "language_info": {
   "codemirror_mode": {
    "name": "ipython",
    "version": 3
   },
   "file_extension": ".py",
   "mimetype": "text/x-python",
   "name": "python",
   "nbconvert_exporter": "python",
   "pygments_lexer": "ipython3",
   "version": "3.10.2"
  },
  "orig_nbformat": 4
 },
 "nbformat": 4,
 "nbformat_minor": 2
}
