{
 "cells": [
  {
   "cell_type": "code",
   "execution_count": 50,
   "metadata": {},
   "outputs": [],
   "source": [
    "import geopandas as gpd\n",
    "gpd.options.use_pygeos = True\n",
    "\n",
    "import shapely\n",
    "import matplotlib.pyplot as plt\n",
    "\n",
    "from secrets.paths import alle_co_path\n",
    "\n",
    "from sqlalchemy import create_engine\n",
    "from secrets.con_str import con_str\n",
    "\n",
    "engine = create_engine(con_str)"
   ]
  },
  {
   "cell_type": "code",
   "execution_count": 2,
   "metadata": {},
   "outputs": [],
   "source": [
    "parcels_shp_path = f'{alle_co_path}/AlleghenyCounty_Parcels202202/AlleghenyCounty_Parcels202202.shp'\n",
    "parcels_gdf = gpd.read_file(parcels_shp_path)"
   ]
  },
  {
   "cell_type": "code",
   "execution_count": 3,
   "metadata": {},
   "outputs": [
    {
     "data": {
      "text/html": [
       "<div>\n",
       "<style scoped>\n",
       "    .dataframe tbody tr th:only-of-type {\n",
       "        vertical-align: middle;\n",
       "    }\n",
       "\n",
       "    .dataframe tbody tr th {\n",
       "        vertical-align: top;\n",
       "    }\n",
       "\n",
       "    .dataframe thead th {\n",
       "        text-align: right;\n",
       "    }\n",
       "</style>\n",
       "<table border=\"1\" class=\"dataframe\">\n",
       "  <thead>\n",
       "    <tr style=\"text-align: right;\">\n",
       "      <th></th>\n",
       "      <th>PIN</th>\n",
       "      <th>MAPBLOCKLO</th>\n",
       "      <th>MUNICODE</th>\n",
       "      <th>CALCACREAG</th>\n",
       "      <th>NOTES</th>\n",
       "      <th>PSEUDONO</th>\n",
       "      <th>COMMENTS</th>\n",
       "      <th>GlobalID</th>\n",
       "      <th>Shape_Leng</th>\n",
       "      <th>Shape_Area</th>\n",
       "      <th>geometry</th>\n",
       "    </tr>\n",
       "  </thead>\n",
       "  <tbody>\n",
       "    <tr>\n",
       "      <th>0</th>\n",
       "      <td>0102P00193000000</td>\n",
       "      <td>102-P-193</td>\n",
       "      <td>941</td>\n",
       "      <td>0.07</td>\n",
       "      <td>None</td>\n",
       "      <td>None</td>\n",
       "      <td>None</td>\n",
       "      <td>{96966DF2-4060-43D0-9516-FD5C97479B43}</td>\n",
       "      <td>306.498674</td>\n",
       "      <td>3251.155592</td>\n",
       "      <td>POLYGON ((1315443.201 395608.825, 1315417.701 ...</td>\n",
       "    </tr>\n",
       "    <tr>\n",
       "      <th>1</th>\n",
       "      <td>0124F00169000000</td>\n",
       "      <td>124-F-169</td>\n",
       "      <td>112</td>\n",
       "      <td>0.02</td>\n",
       "      <td>None</td>\n",
       "      <td>None</td>\n",
       "      <td>None</td>\n",
       "      <td>{76720B1A-9E6C-43B5-9270-8F0D63312477}</td>\n",
       "      <td>149.703009</td>\n",
       "      <td>852.003350</td>\n",
       "      <td>POLYGON ((1367397.828 420679.928, 1367385.145 ...</td>\n",
       "    </tr>\n",
       "    <tr>\n",
       "      <th>2</th>\n",
       "      <td>0006K00358000000</td>\n",
       "      <td>6-K-358</td>\n",
       "      <td>119</td>\n",
       "      <td>0.04</td>\n",
       "      <td>None</td>\n",
       "      <td>None</td>\n",
       "      <td>None</td>\n",
       "      <td>{41F542B5-C253-4E7F-B816-A4B3146471E7}</td>\n",
       "      <td>235.746576</td>\n",
       "      <td>1791.194106</td>\n",
       "      <td>POLYGON ((1335443.757 409727.695, 1335436.131 ...</td>\n",
       "    </tr>\n",
       "    <tr>\n",
       "      <th>3</th>\n",
       "      <td>0858M00274000000</td>\n",
       "      <td>858-M-274</td>\n",
       "      <td>879</td>\n",
       "      <td>0.25</td>\n",
       "      <td>None</td>\n",
       "      <td>None</td>\n",
       "      <td>None</td>\n",
       "      <td>{33A3EE8B-38B1-4576-B747-AAB14334FEF4}</td>\n",
       "      <td>430.870823</td>\n",
       "      <td>10730.808711</td>\n",
       "      <td>POLYGON ((1411227.875 401626.749, 1411331.750 ...</td>\n",
       "    </tr>\n",
       "    <tr>\n",
       "      <th>4</th>\n",
       "      <td>0407J00004000000</td>\n",
       "      <td>407-J-4</td>\n",
       "      <td>946</td>\n",
       "      <td>0.83</td>\n",
       "      <td>None</td>\n",
       "      <td>9946X01562000000</td>\n",
       "      <td>None</td>\n",
       "      <td>{81861533-11EF-44B6-8596-7AC99E8F7CBB}</td>\n",
       "      <td>1260.436214</td>\n",
       "      <td>36243.436135</td>\n",
       "      <td>POLYGON ((1292132.946 397263.813, 1292079.351 ...</td>\n",
       "    </tr>\n",
       "    <tr>\n",
       "      <th>...</th>\n",
       "      <td>...</td>\n",
       "      <td>...</td>\n",
       "      <td>...</td>\n",
       "      <td>...</td>\n",
       "      <td>...</td>\n",
       "      <td>...</td>\n",
       "      <td>...</td>\n",
       "      <td>...</td>\n",
       "      <td>...</td>\n",
       "      <td>...</td>\n",
       "      <td>...</td>\n",
       "    </tr>\n",
       "    <tr>\n",
       "      <th>583672</th>\n",
       "      <td>0112K00391000000</td>\n",
       "      <td>112-K-391</td>\n",
       "      <td>949</td>\n",
       "      <td>0.07</td>\n",
       "      <td>None</td>\n",
       "      <td>None</td>\n",
       "      <td>None</td>\n",
       "      <td>{2B3685B0-3B0D-4EFA-B57B-A7E17D69E9FF}</td>\n",
       "      <td>300.713223</td>\n",
       "      <td>3134.439937</td>\n",
       "      <td>POLYGON ((1321883.963 428663.903, 1321861.819 ...</td>\n",
       "    </tr>\n",
       "    <tr>\n",
       "      <th>583673</th>\n",
       "      <td>0471F00124000000</td>\n",
       "      <td>471-F-124</td>\n",
       "      <td>873</td>\n",
       "      <td>0.00</td>\n",
       "      <td>None</td>\n",
       "      <td>None</td>\n",
       "      <td>None</td>\n",
       "      <td>{3ACD0530-DB6A-447B-8FEF-0AF1BD6FB42E}</td>\n",
       "      <td>370.634445</td>\n",
       "      <td>7316.041368</td>\n",
       "      <td>POLYGON ((1352616.250 371627.566, 1352528.492 ...</td>\n",
       "    </tr>\n",
       "    <tr>\n",
       "      <th>583674</th>\n",
       "      <td>0176E00201000000</td>\n",
       "      <td>176-E-201</td>\n",
       "      <td>114</td>\n",
       "      <td>0.10</td>\n",
       "      <td>&lt;Null&gt;</td>\n",
       "      <td>None</td>\n",
       "      <td>None</td>\n",
       "      <td>{42FA29D2-1CE4-4186-9BD9-DC6E91FE8CCA}</td>\n",
       "      <td>313.910366</td>\n",
       "      <td>4205.542206</td>\n",
       "      <td>POLYGON ((1371361.875 410084.563, 1371367.500 ...</td>\n",
       "    </tr>\n",
       "    <tr>\n",
       "      <th>583675</th>\n",
       "      <td>0464A00259000000</td>\n",
       "      <td>464-A-259</td>\n",
       "      <td>411</td>\n",
       "      <td>0.07</td>\n",
       "      <td>None</td>\n",
       "      <td>None</td>\n",
       "      <td>None</td>\n",
       "      <td>{82A46022-6315-4854-B41D-A405987ED331}</td>\n",
       "      <td>313.161241</td>\n",
       "      <td>3171.895227</td>\n",
       "      <td>POLYGON ((1383968.539 371727.327, 1383953.780 ...</td>\n",
       "    </tr>\n",
       "    <tr>\n",
       "      <th>583676</th>\n",
       "      <td>0188L00030000000</td>\n",
       "      <td>188-L-30</td>\n",
       "      <td>810</td>\n",
       "      <td>0.92</td>\n",
       "      <td>None</td>\n",
       "      <td>None</td>\n",
       "      <td>None</td>\n",
       "      <td>{597238BF-7B88-485E-B5DA-2C604750C185}</td>\n",
       "      <td>894.256869</td>\n",
       "      <td>39946.913057</td>\n",
       "      <td>POLYGON ((1349598.050 385353.569, 1349671.316 ...</td>\n",
       "    </tr>\n",
       "  </tbody>\n",
       "</table>\n",
       "<p>583677 rows × 11 columns</p>\n",
       "</div>"
      ],
      "text/plain": [
       "                     PIN MAPBLOCKLO  MUNICODE  CALCACREAG   NOTES  \\\n",
       "0       0102P00193000000  102-P-193       941        0.07    None   \n",
       "1       0124F00169000000  124-F-169       112        0.02    None   \n",
       "2       0006K00358000000    6-K-358       119        0.04    None   \n",
       "3       0858M00274000000  858-M-274       879        0.25    None   \n",
       "4       0407J00004000000    407-J-4       946        0.83    None   \n",
       "...                  ...        ...       ...         ...     ...   \n",
       "583672  0112K00391000000  112-K-391       949        0.07    None   \n",
       "583673  0471F00124000000  471-F-124       873        0.00    None   \n",
       "583674  0176E00201000000  176-E-201       114        0.10  <Null>   \n",
       "583675  0464A00259000000  464-A-259       411        0.07    None   \n",
       "583676  0188L00030000000   188-L-30       810        0.92    None   \n",
       "\n",
       "                PSEUDONO COMMENTS                                GlobalID  \\\n",
       "0                   None     None  {96966DF2-4060-43D0-9516-FD5C97479B43}   \n",
       "1                   None     None  {76720B1A-9E6C-43B5-9270-8F0D63312477}   \n",
       "2                   None     None  {41F542B5-C253-4E7F-B816-A4B3146471E7}   \n",
       "3                   None     None  {33A3EE8B-38B1-4576-B747-AAB14334FEF4}   \n",
       "4       9946X01562000000     None  {81861533-11EF-44B6-8596-7AC99E8F7CBB}   \n",
       "...                  ...      ...                                     ...   \n",
       "583672              None     None  {2B3685B0-3B0D-4EFA-B57B-A7E17D69E9FF}   \n",
       "583673              None     None  {3ACD0530-DB6A-447B-8FEF-0AF1BD6FB42E}   \n",
       "583674              None     None  {42FA29D2-1CE4-4186-9BD9-DC6E91FE8CCA}   \n",
       "583675              None     None  {82A46022-6315-4854-B41D-A405987ED331}   \n",
       "583676              None     None  {597238BF-7B88-485E-B5DA-2C604750C185}   \n",
       "\n",
       "         Shape_Leng    Shape_Area  \\\n",
       "0        306.498674   3251.155592   \n",
       "1        149.703009    852.003350   \n",
       "2        235.746576   1791.194106   \n",
       "3        430.870823  10730.808711   \n",
       "4       1260.436214  36243.436135   \n",
       "...             ...           ...   \n",
       "583672   300.713223   3134.439937   \n",
       "583673   370.634445   7316.041368   \n",
       "583674   313.910366   4205.542206   \n",
       "583675   313.161241   3171.895227   \n",
       "583676   894.256869  39946.913057   \n",
       "\n",
       "                                                 geometry  \n",
       "0       POLYGON ((1315443.201 395608.825, 1315417.701 ...  \n",
       "1       POLYGON ((1367397.828 420679.928, 1367385.145 ...  \n",
       "2       POLYGON ((1335443.757 409727.695, 1335436.131 ...  \n",
       "3       POLYGON ((1411227.875 401626.749, 1411331.750 ...  \n",
       "4       POLYGON ((1292132.946 397263.813, 1292079.351 ...  \n",
       "...                                                   ...  \n",
       "583672  POLYGON ((1321883.963 428663.903, 1321861.819 ...  \n",
       "583673  POLYGON ((1352616.250 371627.566, 1352528.492 ...  \n",
       "583674  POLYGON ((1371361.875 410084.563, 1371367.500 ...  \n",
       "583675  POLYGON ((1383968.539 371727.327, 1383953.780 ...  \n",
       "583676  POLYGON ((1349598.050 385353.569, 1349671.316 ...  \n",
       "\n",
       "[583677 rows x 11 columns]"
      ]
     },
     "execution_count": 3,
     "metadata": {},
     "output_type": "execute_result"
    }
   ],
   "source": [
    "parcels_gdf"
   ]
  },
  {
   "cell_type": "code",
   "execution_count": 59,
   "metadata": {},
   "outputs": [
    {
     "data": {
      "text/plain": [
       "array(['Polygon', 'MultiPolygon'], dtype=object)"
      ]
     },
     "execution_count": 59,
     "metadata": {},
     "output_type": "execute_result"
    }
   ],
   "source": [
    "parcels_gdf['geom'].geom_type.unique()"
   ]
  },
  {
   "cell_type": "code",
   "execution_count": 16,
   "metadata": {},
   "outputs": [],
   "source": [
    "invalid_geom = parcels_gdf.loc[~parcels_gdf.is_valid, 'geometry']"
   ]
  },
  {
   "cell_type": "code",
   "execution_count": 20,
   "metadata": {},
   "outputs": [
    {
     "data": {
      "text/plain": [
       "7609      Ring Self-intersection[1362793.01579675 404184...\n",
       "12467     Ring Self-intersection[1352330.98377703 480144...\n",
       "24100     Ring Self-intersection[1352330.98377703 480144...\n",
       "29872     Ring Self-intersection[1303051.59176968 379498...\n",
       "39720     Ring Self-intersection[1377495.87575281 415411...\n",
       "65087     Too few points in geometry component[1416977.2...\n",
       "66718     Ring Self-intersection[1421552.93831384 475506...\n",
       "74774     Ring Self-intersection[1347570.31429981 458494...\n",
       "107269    Ring Self-intersection[1350561.53490052 492631...\n",
       "109381    Ring Self-intersection[1352330.98377703 480144...\n",
       "109710    Ring Self-intersection[1335665.3386112 494782....\n",
       "118149    Too few points in geometry component[1381304.7...\n",
       "126641    Too few points in geometry component[1314264.9...\n",
       "131003    Self-intersection[1387266.49618826 337192.7347...\n",
       "155460    Self-intersection[1334039.04053143 485371.5421...\n",
       "182046    Self-intersection[1288447.74882541 456235.7223...\n",
       "187070    Too few points in geometry component[1341129.0...\n",
       "188889    Ring Self-intersection[1321923.40758988 480328...\n",
       "191071    Ring Self-intersection[1302470.03134719 378637...\n",
       "202745    Too few points in geometry component[1396493.6...\n",
       "212218    Too few points in geometry component[1352282.4...\n",
       "238520    Too few points in geometry component[1358271.1...\n",
       "242643    Ring Self-intersection[1397352.21782058 492830...\n",
       "261212    Self-intersection[1320672.97409351 492504.9319...\n",
       "268188    Ring Self-intersection[1302973.80546604 390448...\n",
       "271869    Ring Self-intersection[1346347.50669752 462918...\n",
       "276535    Ring Self-intersection[1341611.99578126 418898...\n",
       "303467    Self-intersection[1404219.74144494 458537.1244...\n",
       "310463    Ring Self-intersection[1352330.98377703 480144...\n",
       "328966    Ring Self-intersection[1330702.10451901 433864...\n",
       "329979    Self-intersection[1311187.1474287 401026.62619...\n",
       "363265    Ring Self-intersection[1395424.24599153 361411...\n",
       "373696    Self-intersection[1334986.18501426 463297.6056...\n",
       "429679    Ring Self-intersection[1352330.98377703 480144...\n",
       "431939    Ring Self-intersection[1404985.58184545 443400...\n",
       "437732    Self-intersection[1385579.2874412 435874.88803...\n",
       "450550    Ring Self-intersection[1310068.79715937 411445...\n",
       "454356    Ring Self-intersection[1332647.54859613 444839...\n",
       "456563    Ring Self-intersection[1318376.87541698 471154...\n",
       "462720    Ring Self-intersection[1313660.1038541 389222....\n",
       "479362    Self-intersection[1336442.43039477 463626.3487...\n",
       "481018    Ring Self-intersection[1314398.7047081 491454....\n",
       "496878    Ring Self-intersection[1311189.50042307 365737...\n",
       "503134    Ring Self-intersection[1364186.4087251 476143....\n",
       "516624    Ring Self-intersection[1337585.38365273 429267...\n",
       "521857    Too few points in geometry component[1316784.9...\n",
       "523834    Ring Self-intersection[1353821.49312501 462513...\n",
       "529137    Ring Self-intersection[1290338.37001206 438990...\n",
       "562540    Ring Self-intersection[1365100.51788563 403874...\n",
       "Name: geometry, dtype: object"
      ]
     },
     "execution_count": 20,
     "metadata": {},
     "output_type": "execute_result"
    }
   ],
   "source": [
    "from shapely.validation import explain_validity\n",
    "from shapely.validation import make_valid\n",
    "\n",
    "invalid_geom.apply(explain_validity)"
   ]
  },
  {
   "cell_type": "code",
   "execution_count": 22,
   "metadata": {},
   "outputs": [],
   "source": [
    "made_valid_geom = invalid_geom.apply(make_valid)"
   ]
  },
  {
   "cell_type": "code",
   "execution_count": 40,
   "metadata": {},
   "outputs": [
    {
     "data": {
      "text/plain": [
       "array(['Polygon', 'MultiPolygon', 'GeometryCollection'], dtype=object)"
      ]
     },
     "execution_count": 40,
     "metadata": {},
     "output_type": "execute_result"
    }
   ],
   "source": [
    "made_valid_geom.geom_type.unique()"
   ]
  },
  {
   "cell_type": "code",
   "execution_count": 36,
   "metadata": {},
   "outputs": [],
   "source": [
    "from shapely.ops import unary_union\n",
    "\n",
    "made_valid_no_ls_geom = made_valid_geom.copy()\n",
    "\n",
    "for i in range(len(made_valid_geom)):\n",
    "  valid_geom = made_valid_geom.iloc[i]\n",
    "  g_type = valid_geom.geom_type\n",
    "  \n",
    "  if g_type == \"GeometryCollection\":\n",
    "    # p = gpd.GeoSeries(valid_geom)\n",
    "    # p.plot()\n",
    "    # plt.show()\n",
    "    sub_geoms = []\n",
    "    for sub_geom in valid_geom.geoms:\n",
    "      sub_g_type = sub_geom.geom_type\n",
    "      if sub_g_type in [\"Polygon\", \"MultiPolygon\"]:\n",
    "        sub_geoms.append(sub_geom)\n",
    "    made_valid_no_ls_geom.iloc[i] = unary_union(sub_geoms)\n",
    "    # p = gpd.GeoSeries(unary_union(sub_geoms))\n",
    "    # p.plot()\n",
    "    # plt.show()"
   ]
  },
  {
   "cell_type": "code",
   "execution_count": 39,
   "metadata": {},
   "outputs": [
    {
     "data": {
      "text/plain": [
       "array(['Polygon', 'MultiPolygon'], dtype=object)"
      ]
     },
     "execution_count": 39,
     "metadata": {},
     "output_type": "execute_result"
    }
   ],
   "source": [
    "made_valid_no_ls_geom.geom_type.unique()"
   ]
  },
  {
   "cell_type": "code",
   "execution_count": 46,
   "metadata": {},
   "outputs": [],
   "source": [
    "parcels_gdf.loc[made_valid_no_ls_geom.index, 'geometry'] = made_valid_no_ls_geom"
   ]
  },
  {
   "cell_type": "code",
   "execution_count": 48,
   "metadata": {},
   "outputs": [
    {
     "data": {
      "text/plain": [
       "array([ True])"
      ]
     },
     "execution_count": 48,
     "metadata": {},
     "output_type": "execute_result"
    }
   ],
   "source": [
    "parcels_gdf.is_valid.unique()"
   ]
  },
  {
   "cell_type": "code",
   "execution_count": 56,
   "metadata": {},
   "outputs": [
    {
     "data": {
      "text/plain": [
       "Index(['pin', 'mapblocklo', 'municode', 'calcacreag', 'notes', 'pseudono',\n",
       "       'comments', 'globalid', 'shape_leng', 'shape_area', 'geom'],\n",
       "      dtype='object')"
      ]
     },
     "execution_count": 56,
     "metadata": {},
     "output_type": "execute_result"
    }
   ],
   "source": [
    "parcels_gdf.columns = [col.lower() for col in parcels_gdf.columns]\n",
    "parcels_gdf.rename(columns={'geometry':'geom'}, inplace=True)\n",
    "parcels_gdf.set_geometry(col='geom', inplace=True)\n",
    "parcels_gdf.columns"
   ]
  },
  {
   "cell_type": "code",
   "execution_count": 57,
   "metadata": {},
   "outputs": [],
   "source": [
    "parcels_gdf.to_postgis(\n",
    "  name='parcels_fixed',\n",
    "  con=engine,\n",
    "  if_exists='replace'\n",
    ")"
   ]
  },
  {
   "cell_type": "code",
   "execution_count": null,
   "metadata": {},
   "outputs": [],
   "source": []
  }
 ],
 "metadata": {
  "interpreter": {
   "hash": "f16a41518b62fecb6c83774704cbaa29755f01bc2cc04176a155a6394ef4f7a3"
  },
  "kernelspec": {
   "display_name": "Python 3.10.2 ('geopandas_3')",
   "language": "python",
   "name": "python3"
  },
  "language_info": {
   "codemirror_mode": {
    "name": "ipython",
    "version": 3
   },
   "file_extension": ".py",
   "mimetype": "text/x-python",
   "name": "python",
   "nbconvert_exporter": "python",
   "pygments_lexer": "ipython3",
   "version": "3.10.2"
  },
  "orig_nbformat": 4
 },
 "nbformat": 4,
 "nbformat_minor": 2
}
